{
 "cells": [
  {
   "cell_type": "code",
   "execution_count": 10,
   "metadata": {},
   "outputs": [
    {
     "name": "stdout",
     "output_type": "stream",
     "text": [
      "file path?\n",
      ".data5\n",
      "file base (e.g. type \"LOG\" if the filenames are \"LOG1\", \"LOG2\" etc.)?\n",
      "LOG\n",
      "Files:\n",
      "['LOG0', 'LOG1', 'LOG10', 'LOG11', 'LOG12', 'LOG13', 'LOG14', 'LOG2', 'LOG3', 'LOG4', 'LOG5', 'LOG6', 'LOG7', 'LOG8', 'LOG9']\n"
     ]
    }
   ],
   "source": [
    "import struct\n",
    "from os import listdir\n",
    "from os.path import exists, getsize, join, isfile\n",
    "import csv\n",
    "import progressbar\n",
    "\n",
    "channels = {b'B':\"Battery Current (A)\", b'P': \"Air Pressure (P)\", b'H':\"Relative Humidity (percent)\", b'M':\"Battery Temperature (C)\", b'N':\"Internal Temperature (C)\", b'T':\"External Temperature (C)\", b'1':\"X Acceleration (g)\", b'2':\"Y Acceleration (g)\", b'3':\"Z Acceleration (g)\", b'7':\"X Mangetometer (uT)\", b'8':\"Y Mangetometer (uT)\", b'9':\"Z Mangetometer (uT)\", b'4':\"X Gyro (deg per sec)\", b'5':\"Y Gyro (deg per sec)\", b'6':\"Z Gyro (deg per sec)\", b'L':\"Latitude\", b'O':\"Longitude\", b'A':\"Altitude (m)\", b'S':\"Speed (m per s)\", b'I':\"Time (seconds)\", b'V':\"VOC density (ppb)\", b'C':\"eCO2 density (ppm)\"} \n",
    "\n",
    "# Try to read the files until we get something valid\n",
    "targetfiles = None\n",
    "while targetfiles == None:\n",
    "    try:\n",
    "        print(\"file path?\")\n",
    "        filepath = input();\n",
    "        print(\"file base (e.g. type \\\"LOG\\\" if the filenames are \\\"LOG1\\\", \\\"LOG2\\\" etc.)?\")\n",
    "        filename = input();\n",
    "        allfiles = [f for f in listdir(filepath) if isfile(join(filepath, f))]\n",
    "        targetfiles = [f for f in allfiles if f[0:len(filename)] == filename]\n",
    "        break\n",
    "    except:\n",
    "        print(\"Invalid Path\")\n",
    "        continue\n",
    "    \n",
    "    if len(targetfiles) == 0:\n",
    "        print(\"No files with this name!\")\n",
    "        targetfiles = None\n",
    "\n",
    "print(\"Files:\")\n",
    "print(targetfiles)"
   ]
  },
  {
   "cell_type": "code",
   "execution_count": 12,
   "metadata": {
    "scrolled": true
   },
   "outputs": [
    {
     "name": "stderr",
     "output_type": "stream",
     "text": [
      "  0% (272 of 897930) |                   | Elapsed Time: 0:00:00 ETA:   0:05:33"
     ]
    },
    {
     "name": "stdout",
     "output_type": "stream",
     "text": [
      "Opening LOG13\n",
      "New file: .data5\\Battery Current (A).csv\n",
      "New file: .data5\\Air Pressure (P).csv\n",
      "New file: .data5\\Relative Humidity (percent).csv\n",
      "New file: .data5\\Battery Temperature (C).csv\n",
      "New file: .data5\\Internal Temperature (C).csv\n",
      "New file: .data5\\External Temperature (C).csv\n",
      "New file: .data5\\X Acceleration (g).csv\n",
      "New file: .data5\\Y Acceleration (g).csv\n",
      "New file: .data5\\Z Acceleration (g).csv\n",
      "New file: .data5\\X Gyro (deg per sec).csv\n",
      "New file: .data5\\Y Gyro (deg per sec).csv\n",
      "New file: .data5\\Z Gyro (deg per sec).csv\n",
      "New file: .data5\\X Mangetometer (uT).csv\n",
      "New file: .data5\\Y Mangetometer (uT).csv\n",
      "New file: .data5\\Z Mangetometer (uT).csv\n",
      "New file: .data5\\Latitude.csv\n",
      "New file: .data5\\Longitude.csv\n",
      "New file: .data5\\Altitude (m).csv\n",
      "New file: .data5\\Speed (m per s).csv\n",
      "New file: .data5\\Time (seconds).csv\n",
      "New file: .data5\\VOC density (ppb).csv\n",
      "New file: .data5\\eCO2 density (ppm).csv\n"
     ]
    },
    {
     "name": "stderr",
     "output_type": "stream",
     "text": [
      "  2% (26025 of 897930) |                 | Elapsed Time: 0:00:07 ETA:   0:04:21\n"
     ]
    },
    {
     "ename": "KeyboardInterrupt",
     "evalue": "",
     "output_type": "error",
     "traceback": [
      "\u001b[1;31m---------------------------------------------------------------------------\u001b[0m",
      "\u001b[1;31mKeyboardInterrupt\u001b[0m                         Traceback (most recent call last)",
      "\u001b[1;32m<ipython-input-12-a1786ddd8e4e>\u001b[0m in \u001b[0;36m<module>\u001b[1;34m\u001b[0m\n\u001b[0;32m     52\u001b[0m \u001b[1;33m\u001b[0m\u001b[0m\n\u001b[0;32m     53\u001b[0m             \u001b[1;31m# Update the progress bar\u001b[0m\u001b[1;33m\u001b[0m\u001b[1;33m\u001b[0m\u001b[1;33m\u001b[0m\u001b[0m\n\u001b[1;32m---> 54\u001b[1;33m             \u001b[0mcurrent_cycle\u001b[0m \u001b[1;33m+=\u001b[0m \u001b[1;36m1\u001b[0m\u001b[1;33m\u001b[0m\u001b[1;33m\u001b[0m\u001b[0m\n\u001b[0m\u001b[0;32m     55\u001b[0m             \u001b[0mcurrent_cycle\u001b[0m \u001b[1;33m=\u001b[0m \u001b[0mmin\u001b[0m\u001b[1;33m(\u001b[0m\u001b[0mcurrent_cycle\u001b[0m\u001b[1;33m,\u001b[0m \u001b[0mn_cycles\u001b[0m\u001b[1;33m)\u001b[0m \u001b[1;31m# prevent rounding errors from causing problems\u001b[0m\u001b[1;33m\u001b[0m\u001b[1;33m\u001b[0m\u001b[0m\n\u001b[0;32m     56\u001b[0m             \u001b[0mbar\u001b[0m\u001b[1;33m.\u001b[0m\u001b[0mupdate\u001b[0m\u001b[1;33m(\u001b[0m\u001b[0mcurrent_cycle\u001b[0m\u001b[1;33m)\u001b[0m\u001b[1;33m\u001b[0m\u001b[1;33m\u001b[0m\u001b[0m\n",
      "\u001b[1;31mKeyboardInterrupt\u001b[0m: "
     ]
    }
   ],
   "source": [
    "# Calculate some values for the loop\n",
    "n_cycles = int(sum([getsize(join(filepath, targetfile))/9 for targetfile in targetfiles]))\n",
    "current_cycle = 1\n",
    "file_idx = 0\n",
    "\n",
    "with progressbar.ProgressBar(max_value=n_cycles) as bar:\n",
    "    for tf in targetfiles: \n",
    "        try:\n",
    "            targetfile = filename + str(file_idx)\n",
    "            print(\"Opening \" + targetfile)\n",
    "            file = open(join(filepath, targetfile), \"rb\")\n",
    "        except:\n",
    "            print(\"File \" + targetfile + \" DNE\")\n",
    "            file_idx += 1\n",
    "            break;\n",
    "\n",
    "        dataIn = file.read(1)\n",
    "        while dataIn:\n",
    "            try: # Check if the dataIn is a valid data source\n",
    "                title = channels[dataIn]\n",
    "            except: # If not, go to the next byte\n",
    "                print(\"Invalid Channel \" + str(dataIn))\n",
    "                dataIn = file.read(1)\n",
    "                continue\n",
    "\n",
    "            try: # Try to read the data in to process\n",
    "                byteLong  = file.read(4)\n",
    "                byteFloat = file.read(4)\n",
    "                # Convert byteLong and byteFloat to an unsigned long and float respectively\n",
    "                [timestamp] = struct.unpack(\"L\", byteLong)\n",
    "                [data] = struct.unpack(\"f\", byteFloat)\n",
    "            except: # If it fails, we have probably reached EOF; break out of reading this file\n",
    "                print(\"Failed to read bytes\")\n",
    "                dataIn = file.read(1)\n",
    "                break\n",
    "\n",
    "            # Create CSV file name\n",
    "            csvfilename = join(filepath, title + \".csv\")\n",
    "            # Check if it already exists\n",
    "            # If it doesn't exist, create the file and write the header\n",
    "            if (not exists(csvfilename)):\n",
    "                print(\"New file: \" + csvfilename)\n",
    "                f = open(csvfilename, \"a\")\n",
    "                f.write(\"Time (ms), \" + title + \"\\n\")\n",
    "                f.close()\n",
    "\n",
    "            # Now that we know it exists and has a header, open it and write the data\n",
    "            with open(csvfilename, 'a', newline='', encoding='UTF8') as f:\n",
    "                writer = csv.writer(f)\n",
    "                row = [str(timestamp), str(data)]\n",
    "                writer.writerow(row)\n",
    "\n",
    "            # Update the progress bar\n",
    "            current_cycle += 1\n",
    "            current_cycle = min(current_cycle, n_cycles) # prevent rounding errors from causing problems\n",
    "            bar.update(current_cycle)\n",
    "            # Read next byte\n",
    "            dataIn = file.read(1)\n",
    "        # Go to the next file\n",
    "        file_idx += 1\n",
    "\n",
    "print(\"done\")"
   ]
  },
  {
   "cell_type": "code",
   "execution_count": 14,
   "metadata": {},
   "outputs": [
    {
     "data": {
      "text/plain": [
       "'LOG0'"
      ]
     },
     "execution_count": 14,
     "metadata": {},
     "output_type": "execute_result"
    }
   ],
   "source": [
    "\"LOG\" + str(0)"
   ]
  },
  {
   "cell_type": "code",
   "execution_count": null,
   "metadata": {},
   "outputs": [],
   "source": []
  }
 ],
 "metadata": {
  "kernelspec": {
   "display_name": "Python 3",
   "language": "python",
   "name": "python3"
  },
  "language_info": {
   "codemirror_mode": {
    "name": "ipython",
    "version": 3
   },
   "file_extension": ".py",
   "mimetype": "text/x-python",
   "name": "python",
   "nbconvert_exporter": "python",
   "pygments_lexer": "ipython3",
   "version": "3.8.5"
  }
 },
 "nbformat": 4,
 "nbformat_minor": 4
}
