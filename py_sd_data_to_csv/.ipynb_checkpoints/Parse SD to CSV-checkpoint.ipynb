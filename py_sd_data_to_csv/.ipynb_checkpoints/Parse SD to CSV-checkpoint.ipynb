{
 "cells": [
  {
   "cell_type": "code",
   "execution_count": 1,
   "metadata": {},
   "outputs": [
    {
     "name": "stdout",
     "output_type": "stream",
     "text": [
      "file path?\n",
      ".data2/\n",
      "file name?\n",
      "LOG2\n"
     ]
    }
   ],
   "source": [
    "import struct\n",
    "from os.path import exists\n",
    "from os.path import getsize\n",
    "import csv\n",
    "import progressbar\n",
    "\n",
    "channels = {b'B':\"Battery Current (A)\", b'P': \"Air Pressure (P)\", b'H':\"Relative Humidity (percent)\", b'M':\"Battery Temperature (C)\", b'N':\"Internal Temperature (C)\", b'T':\"External Temperature (C)\", b'1':\"X Acceleration (g)\", b'2':\"Y Acceleration (g)\", b'3':\"Z Acceleration (g)\", b'4':\"X Mangetometer (uT)\", b'5':\"Y Mangetometer (uT)\", b'6':\"Z Mangetometer (uT)\", b'7':\"X Gyro (deg per sec)\", b'8':\"Y Gyro (deg per sec)\", b'9':\"Z Gyro (deg per sec)\", b'L':\"Latitude\", b'O':\"Longitude\", b'A':\"Altitude (m)\", b'S':\"Speed (m per s)\", b'I':\"Time (seconds)\", b'V':\"VOC density (ppb)\", b'C':\"eCO2 density (ppm)\"} \n",
    "print(\"file path?\")\n",
    "filepath = input();\n",
    "print(\"file name?\")\n",
    "filename = input();\n",
    "targetfile = filepath + filename\n",
    "file = open(targetfile, \"rb\")"
   ]
  },
  {
   "cell_type": "code",
   "execution_count": 2,
   "metadata": {
    "scrolled": true
   },
   "outputs": [
    {
     "name": "stderr",
     "output_type": "stream",
     "text": [
      " 11% (126 of 1101) |##                   | Elapsed Time: 0:00:00 ETA:   0:00:00"
     ]
    },
    {
     "name": "stdout",
     "output_type": "stream",
     "text": [
      "New file: .data2/Battery Current (A).csv\n",
      "New file: .data2/Air Pressure (P).csv\n",
      "New file: .data2/Relative Humidity (percent).csv\n",
      "New file: .data2/Battery Temperature (C).csv\n",
      "New file: .data2/Internal Temperature (C).csv\n",
      "New file: .data2/External Temperature (C).csv\n",
      "New file: .data2/X Acceleration (g).csv\n",
      "New file: .data2/Y Acceleration (g).csv\n",
      "New file: .data2/Z Acceleration (g).csv\n",
      "New file: .data2/X Mangetometer (uT).csv\n",
      "New file: .data2/Y Mangetometer (uT).csv\n",
      "New file: .data2/Z Mangetometer (uT).csv\n",
      "New file: .data2/X Gyro (deg per sec).csv\n",
      "New file: .data2/Y Gyro (deg per sec).csv\n",
      "New file: .data2/Z Gyro (deg per sec).csv\n",
      "New file: .data2/Latitude.csv\n",
      "New file: .data2/Longitude.csv\n",
      "New file: .data2/VOC density (ppb).csv\n",
      "New file: .data2/eCO2 density (ppm).csv\n",
      "New file: .data2/Altitude (m).csv\n",
      "New file: .data2/Speed (m per s).csv\n",
      "New file: .data2/Time (seconds).csv\n"
     ]
    },
    {
     "name": "stderr",
     "output_type": "stream",
     "text": [
      " 93% (1032 of 1101) |##################  | Elapsed Time: 0:00:00 ETA:   0:00:00\n"
     ]
    },
    {
     "ename": "ValueError",
     "evalue": "Value 1102 is out of range, should be between 0 and 1101",
     "output_type": "error",
     "traceback": [
      "\u001b[1;31m---------------------------------------------------------------------------\u001b[0m",
      "\u001b[1;31mValueError\u001b[0m                                Traceback (most recent call last)",
      "\u001b[1;32m<ipython-input-2-b541079ae1a6>\u001b[0m in \u001b[0;36m<module>\u001b[1;34m\u001b[0m\n\u001b[0;32m     41\u001b[0m         \u001b[1;31m# Update the progress bar\u001b[0m\u001b[1;33m\u001b[0m\u001b[1;33m\u001b[0m\u001b[1;33m\u001b[0m\u001b[0m\n\u001b[0;32m     42\u001b[0m         \u001b[0mcurrent_cycle\u001b[0m \u001b[1;33m+=\u001b[0m \u001b[1;36m1\u001b[0m\u001b[1;33m\u001b[0m\u001b[1;33m\u001b[0m\u001b[0m\n\u001b[1;32m---> 43\u001b[1;33m         \u001b[0mbar\u001b[0m\u001b[1;33m.\u001b[0m\u001b[0mupdate\u001b[0m\u001b[1;33m(\u001b[0m\u001b[0mcurrent_cycle\u001b[0m\u001b[1;33m)\u001b[0m\u001b[1;33m\u001b[0m\u001b[1;33m\u001b[0m\u001b[0m\n\u001b[0m\u001b[0;32m     44\u001b[0m \u001b[1;33m\u001b[0m\u001b[0m\n\u001b[0;32m     45\u001b[0m \u001b[0mprint\u001b[0m\u001b[1;33m(\u001b[0m\u001b[1;34m\"done\"\u001b[0m\u001b[1;33m)\u001b[0m\u001b[1;33m\u001b[0m\u001b[1;33m\u001b[0m\u001b[0m\n",
      "\u001b[1;32m~\\anaconda3\\lib\\site-packages\\progressbar\\bar.py\u001b[0m in \u001b[0;36mupdate\u001b[1;34m(self, value, force, **kwargs)\u001b[0m\n\u001b[0;32m    659\u001b[0m                 \u001b[1;32mpass\u001b[0m\u001b[1;33m\u001b[0m\u001b[1;33m\u001b[0m\u001b[0m\n\u001b[0;32m    660\u001b[0m             \u001b[1;32melif\u001b[0m \u001b[0mself\u001b[0m\u001b[1;33m.\u001b[0m\u001b[0mmax_error\u001b[0m\u001b[1;33m:\u001b[0m\u001b[1;33m\u001b[0m\u001b[1;33m\u001b[0m\u001b[0m\n\u001b[1;32m--> 661\u001b[1;33m                 raise ValueError(\n\u001b[0m\u001b[0;32m    662\u001b[0m                     \u001b[1;34m'Value %s is out of range, should be between %s and %s'\u001b[0m\u001b[1;33m\u001b[0m\u001b[1;33m\u001b[0m\u001b[0m\n\u001b[0;32m    663\u001b[0m                     % (value, self.min_value, self.max_value))\n",
      "\u001b[1;31mValueError\u001b[0m: Value 1102 is out of range, should be between 0 and 1101"
     ]
    }
   ],
   "source": [
    "n_cycles = int(getsize(targetfile)/9)\n",
    "current_cycle = 1\n",
    "\n",
    "with progressbar.ProgressBar(max_value=n_cycles) as bar:    \n",
    "    dataIn = file.read(1)\n",
    "    while dataIn:\n",
    "        try: # Check if the dataIn is a valid data source\n",
    "            title = channels[dataIn]\n",
    "        except: # If not, go to the next byte\n",
    "            print(dataIn)\n",
    "            dataIn = file.read(1)\n",
    "            continue\n",
    "    \n",
    "        try: # Try to read the data in to process\n",
    "            byteLong  = file.read(4)\n",
    "            byteFloat = file.read(4)\n",
    "        except: # If it fails, we have probably reached EOF; break\n",
    "            print(\"Failed to read bytes\")\n",
    "            dataIn = file.read(1)\n",
    "            break\n",
    "\n",
    "        # Convert byteLong and byteFloat to an unsigned long and float respectively\n",
    "        [timestamp] = struct.unpack(\"L\", byteLong)\n",
    "        [data] = struct.unpack(\"f\", byteFloat)\n",
    "\n",
    "        # Create CSV file name\n",
    "        csvfilename = filepath + title + \".csv\"\n",
    "        # Check if it already exists\n",
    "        # If it doesn't exist, create the file and write the header\n",
    "        if (not exists(csvfilename)):\n",
    "            print(\"New file: \" + csvfilename)\n",
    "            f = open(csvfilename, \"a\")\n",
    "            f.write(\"Time (ms), \" + title + \"\\n\")\n",
    "            f.close()\n",
    "\n",
    "        # Now that we know it exists and has a header, open it and write the data\n",
    "        with open(csvfilename, 'a', newline='', encoding='UTF8') as f:\n",
    "            writer = csv.writer(f)\n",
    "            row = [str(timestamp), str(data)]\n",
    "            writer.writerow(row)\n",
    "            \n",
    "        # Update the progress bar\n",
    "        current_cycle += 1\n",
    "        current_cycle = min(current_cycle, n_cycles) # prevent rounding errors from causing problems\n",
    "        bar.update(current_cycle)\n",
    "\n",
    "print(\"done\")"
   ]
  },
  {
   "cell_type": "code",
   "execution_count": null,
   "metadata": {},
   "outputs": [],
   "source": []
  }
 ],
 "metadata": {
  "kernelspec": {
   "display_name": "Python 3",
   "language": "python",
   "name": "python3"
  },
  "language_info": {
   "codemirror_mode": {
    "name": "ipython",
    "version": 3
   },
   "file_extension": ".py",
   "mimetype": "text/x-python",
   "name": "python",
   "nbconvert_exporter": "python",
   "pygments_lexer": "ipython3",
   "version": "3.8.5"
  }
 },
 "nbformat": 4,
 "nbformat_minor": 4
}
