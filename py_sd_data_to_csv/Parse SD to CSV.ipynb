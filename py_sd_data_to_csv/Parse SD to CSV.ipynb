{
 "cells": [
  {
   "cell_type": "code",
   "execution_count": 15,
   "metadata": {},
   "outputs": [
    {
     "name": "stdout",
     "output_type": "stream",
     "text": [
      "file path?\n",
      ".data5\n",
      "file base (e.g. type \"LOG\" if the filenames are \"LOG1\", \"LOG2\" etc.)?\n",
      "LOG\n",
      "Files:\n",
      "['LOG0', 'LOG1', 'LOG10', 'LOG11', 'LOG12', 'LOG13', 'LOG14', 'LOG2', 'LOG3', 'LOG4', 'LOG5', 'LOG6', 'LOG7', 'LOG8', 'LOG9']\n"
     ]
    }
   ],
   "source": [
    "import struct\n",
    "from os import listdir\n",
    "from os.path import exists, getsize, join, isfile\n",
    "import csv\n",
    "import progressbar\n",
    "\n",
    "channels = {b'B':\"Battery Current (A)\", b'P': \"Air Pressure (P)\", b'H':\"Relative Humidity (percent)\", b'M':\"Battery Temperature (C)\", b'N':\"Internal Temperature (C)\", b'T':\"External Temperature (C)\", b'1':\"X Acceleration (g)\", b'2':\"Y Acceleration (g)\", b'3':\"Z Acceleration (g)\", b'7':\"X Mangetometer (uT)\", b'8':\"Y Mangetometer (uT)\", b'9':\"Z Mangetometer (uT)\", b'4':\"X Gyro (deg per sec)\", b'5':\"Y Gyro (deg per sec)\", b'6':\"Z Gyro (deg per sec)\", b'L':\"Latitude\", b'O':\"Longitude\", b'A':\"Altitude (m)\", b'S':\"Speed (m per s)\", b'I':\"Time (seconds)\", b'V':\"VOC density (ppb)\", b'C':\"eCO2 density (ppm)\"} \n",
    "\n",
    "# Try to read the files until we get something valid\n",
    "targetfiles = None\n",
    "while targetfiles == None:\n",
    "    try:\n",
    "        print(\"file path?\")\n",
    "        filepath = input();\n",
    "        print(\"file base (e.g. type \\\"LOG\\\" if the filenames are \\\"LOG1\\\", \\\"LOG2\\\" etc.)?\")\n",
    "        filename = input();\n",
    "        allfiles = [f for f in listdir(filepath) if isfile(join(filepath, f))]\n",
    "        targetfiles = [f for f in allfiles if f[0:len(filename)] == filename]\n",
    "        break\n",
    "    except:\n",
    "        print(\"Invalid Path\")\n",
    "        continue\n",
    "    \n",
    "    if len(targetfiles) == 0:\n",
    "        print(\"No files with this name!\")\n",
    "        targetfiles = None\n",
    "\n",
    "print(\"Files:\")\n",
    "print(targetfiles)"
   ]
  },
  {
   "cell_type": "code",
   "execution_count": 16,
   "metadata": {
    "scrolled": true
   },
   "outputs": [
    {
     "name": "stderr",
     "output_type": "stream",
     "text": [
      "  0% (223 of 897930) |                   | Elapsed Time: 0:00:00 ETA:   0:06:45"
     ]
    },
    {
     "name": "stdout",
     "output_type": "stream",
     "text": [
      "Opening LOG0\n",
      "New file: .data5\\Battery Current (A).csv\n",
      "New file: .data5\\Air Pressure (P).csv\n",
      "New file: .data5\\Relative Humidity (percent).csv\n",
      "New file: .data5\\Battery Temperature (C).csv\n",
      "New file: .data5\\Internal Temperature (C).csv\n",
      "New file: .data5\\External Temperature (C).csv\n",
      "New file: .data5\\X Acceleration (g).csv\n",
      "New file: .data5\\Y Acceleration (g).csv\n",
      "New file: .data5\\Z Acceleration (g).csv\n",
      "New file: .data5\\X Gyro (deg per sec).csv\n",
      "New file: .data5\\Y Gyro (deg per sec).csv\n",
      "New file: .data5\\Z Gyro (deg per sec).csv\n",
      "New file: .data5\\X Mangetometer (uT).csv\n",
      "New file: .data5\\Y Mangetometer (uT).csv\n",
      "New file: .data5\\Z Mangetometer (uT).csv\n",
      "New file: .data5\\Latitude.csv\n",
      "New file: .data5\\Longitude.csv\n",
      "New file: .data5\\Altitude (m).csv\n",
      "New file: .data5\\Speed (m per s).csv\n",
      "New file: .data5\\Time (seconds).csv\n",
      "New file: .data5\\VOC density (ppb).csv\n",
      "New file: .data5\\eCO2 density (ppm).csv\n"
     ]
    },
    {
     "name": "stderr",
     "output_type": "stream",
     "text": [
      "  3% (33278 of 897930) |                 | Elapsed Time: 0:00:10 ETA:   0:04:28"
     ]
    },
    {
     "name": "stdout",
     "output_type": "stream",
     "text": [
      "Opening LOG1\n"
     ]
    },
    {
     "name": "stderr",
     "output_type": "stream",
     "text": [
      " 11% (99709 of 897930) |#                | Elapsed Time: 0:00:31 ETA:   0:04:28"
     ]
    },
    {
     "name": "stdout",
     "output_type": "stream",
     "text": [
      "Opening LOG2\n"
     ]
    },
    {
     "name": "stderr",
     "output_type": "stream",
     "text": [
      " 18% (166288 of 897930) |##              | Elapsed Time: 0:00:54 ETA:   0:04:16"
     ]
    },
    {
     "name": "stdout",
     "output_type": "stream",
     "text": [
      "Opening LOG3\n"
     ]
    },
    {
     "name": "stderr",
     "output_type": "stream",
     "text": [
      " 25% (232628 of 897930) |####            | Elapsed Time: 0:01:18 ETA:   0:03:57"
     ]
    },
    {
     "name": "stdout",
     "output_type": "stream",
     "text": [
      "Opening LOG4\n"
     ]
    },
    {
     "name": "stderr",
     "output_type": "stream",
     "text": [
      " 33% (299268 of 897930) |#####           | Elapsed Time: 0:01:47 ETA:   0:03:56"
     ]
    },
    {
     "name": "stdout",
     "output_type": "stream",
     "text": [
      "Opening LOG5\n"
     ]
    },
    {
     "name": "stderr",
     "output_type": "stream",
     "text": [
      " 40% (365931 of 897930) |######          | Elapsed Time: 0:02:17 ETA:   0:04:30"
     ]
    },
    {
     "name": "stdout",
     "output_type": "stream",
     "text": [
      "Opening LOG6\n"
     ]
    },
    {
     "name": "stderr",
     "output_type": "stream",
     "text": [
      " 48% (432450 of 897930) |#######         | Elapsed Time: 0:02:47 ETA:   0:03:38"
     ]
    },
    {
     "name": "stdout",
     "output_type": "stream",
     "text": [
      "Opening LOG7\n"
     ]
    },
    {
     "name": "stderr",
     "output_type": "stream",
     "text": [
      " 55% (498772 of 897930) |########        | Elapsed Time: 0:03:15 ETA:   0:02:59"
     ]
    },
    {
     "name": "stdout",
     "output_type": "stream",
     "text": [
      "Opening LOG8\n"
     ]
    },
    {
     "name": "stderr",
     "output_type": "stream",
     "text": [
      " 62% (565646 of 897930) |##########      | Elapsed Time: 0:03:45 ETA:   0:02:05"
     ]
    },
    {
     "name": "stdout",
     "output_type": "stream",
     "text": [
      "Opening LOG9\n"
     ]
    },
    {
     "name": "stderr",
     "output_type": "stream",
     "text": [
      " 70% (632006 of 897930) |###########     | Elapsed Time: 0:04:14 ETA:   0:01:53"
     ]
    },
    {
     "name": "stdout",
     "output_type": "stream",
     "text": [
      "Opening LOG10\n"
     ]
    },
    {
     "name": "stderr",
     "output_type": "stream",
     "text": [
      " 77% (698595 of 897930) |############    | Elapsed Time: 0:04:54 ETA:   0:02:04"
     ]
    },
    {
     "name": "stdout",
     "output_type": "stream",
     "text": [
      "Opening LOG11\n"
     ]
    },
    {
     "name": "stderr",
     "output_type": "stream",
     "text": [
      " 85% (765034 of 897930) |#############   | Elapsed Time: 0:05:25 ETA:   0:01:10"
     ]
    },
    {
     "name": "stdout",
     "output_type": "stream",
     "text": [
      "Opening LOG12\n"
     ]
    },
    {
     "name": "stderr",
     "output_type": "stream",
     "text": [
      " 92% (831740 of 897930) |##############  | Elapsed Time: 0:05:59 ETA:   0:00:30"
     ]
    },
    {
     "name": "stdout",
     "output_type": "stream",
     "text": [
      "Opening LOG13\n"
     ]
    },
    {
     "name": "stderr",
     "output_type": "stream",
     "text": [
      "100% (897930 of 897930) |################| Elapsed Time: 0:06:32 Time:  0:06:32\n"
     ]
    },
    {
     "name": "stdout",
     "output_type": "stream",
     "text": [
      "Opening LOG14\n",
      "done\n"
     ]
    }
   ],
   "source": [
    "# Calculate some values for the loop\n",
    "n_cycles = int(sum([getsize(join(filepath, targetfile))/9 for targetfile in targetfiles]))\n",
    "current_cycle = 1\n",
    "file_idx = 0\n",
    "\n",
    "with progressbar.ProgressBar(max_value=n_cycles) as bar:\n",
    "    for tf in targetfiles: \n",
    "        try:\n",
    "            targetfile = filename + str(file_idx)\n",
    "            print(\"Opening \" + targetfile)\n",
    "            file = open(join(filepath, targetfile), \"rb\")\n",
    "        except:\n",
    "            print(\"File \" + targetfile + \" DNE\")\n",
    "            file_idx += 1\n",
    "            break;\n",
    "\n",
    "        dataIn = file.read(1)\n",
    "        while dataIn:\n",
    "            try: # Check if the dataIn is a valid data source\n",
    "                title = channels[dataIn]\n",
    "            except: # If not, go to the next byte\n",
    "                print(\"Invalid Channel \" + str(dataIn))\n",
    "                dataIn = file.read(1)\n",
    "                continue\n",
    "\n",
    "            try: # Try to read the data in to process\n",
    "                byteLong  = file.read(4)\n",
    "                byteFloat = file.read(4)\n",
    "                # Convert byteLong and byteFloat to an unsigned long and float respectively\n",
    "                [timestamp] = struct.unpack(\"L\", byteLong)\n",
    "                [data] = struct.unpack(\"f\", byteFloat)\n",
    "            except: # If it fails, we have probably reached EOF; break out of reading this file\n",
    "                print(\"Failed to read bytes\")\n",
    "                dataIn = file.read(1)\n",
    "                break\n",
    "\n",
    "            # Create CSV file name\n",
    "            csvfilename = join(filepath, title + \".csv\")\n",
    "            # Check if it already exists\n",
    "            # If it doesn't exist, create the file and write the header\n",
    "            if (not exists(csvfilename)):\n",
    "                print(\"New file: \" + csvfilename)\n",
    "                f = open(csvfilename, \"a\")\n",
    "                f.write(\"Time (ms), \" + title + \"\\n\")\n",
    "                f.close()\n",
    "\n",
    "            # Now that we know it exists and has a header, open it and write the data\n",
    "            with open(csvfilename, 'a', newline='', encoding='UTF8') as f:\n",
    "                writer = csv.writer(f)\n",
    "                row = [str(timestamp), str(data)]\n",
    "                writer.writerow(row)\n",
    "\n",
    "            # Update the progress bar\n",
    "            current_cycle += 1\n",
    "            current_cycle = min(current_cycle, n_cycles) # prevent rounding errors from causing problems\n",
    "            bar.update(current_cycle)\n",
    "            # Read next byte\n",
    "            dataIn = file.read(1)\n",
    "        # Go to the next file\n",
    "        file_idx += 1\n",
    "\n",
    "print(\"done\")"
   ]
  }
 ],
 "metadata": {
  "kernelspec": {
   "display_name": "Python 3",
   "language": "python",
   "name": "python3"
  },
  "language_info": {
   "codemirror_mode": {
    "name": "ipython",
    "version": 3
   },
   "file_extension": ".py",
   "mimetype": "text/x-python",
   "name": "python",
   "nbconvert_exporter": "python",
   "pygments_lexer": "ipython3",
   "version": "3.8.5"
  }
 },
 "nbformat": 4,
 "nbformat_minor": 4
}
