{
 "cells": [
  {
   "cell_type": "code",
   "execution_count": 31,
   "metadata": {},
   "outputs": [
    {
     "name": "stdout",
     "output_type": "stream",
     "text": [
      "file path?\n",
      "\n",
      "file name?\n",
      "LOG\n"
     ]
    }
   ],
   "source": [
    "import struct\n",
    "from os.path import exists\n",
    "from os.path import getsize\n",
    "import csv\n",
    "import progressbar\n",
    "\n",
    "channels = {b'B':\"Battery Current (A)\", b'P': \"Air Pressure (P)\", b'H':\"Relative Humidity (percent)\", b'M':\"Battery Temperature (C)\", b'N':\"Internal Temperature (C)\", b'T':\"External Temperature (C)\", b'1':\"X Acceleration (g)\", b'2':\"Y Acceleration (g)\", b'3':\"Z Acceleration (g)\", b'4':\"X Mangetometer (uT)\", b'5':\"Y Mangetometer (uT)\", b'6':\"Z Mangetometer (uT)\", b'7':\"X Gyro (deg per sec)\", b'8':\"Y Gyro (deg per sec)\", b'9':\"Z Gyro (deg per sec)\", b'L':\"Latitude\", b'O':\"Longitude\", b'A':\"Altitude (m)\", b'S':\"Speed (m per s)\", b'I':\"Time (seconds)\", b'V':\"VOC density (ppb)\", b'C':\"eCO2 density (ppm)\"} \n",
    "print(\"file path?\")\n",
    "filepath = input();\n",
    "print(\"file name?\")\n",
    "filename = input();\n",
    "targetfile = filepath + filename\n",
    "file = open(targetfile, \"rb\")"
   ]
  },
  {
   "cell_type": "code",
   "execution_count": 32,
   "metadata": {
    "scrolled": true
   },
   "outputs": [
    {
     "name": "stderr",
     "output_type": "stream",
     "text": [
      "  0% (269 of 3961827) |                  | Elapsed Time: 0:00:00 ETA:   0:24:48"
     ]
    },
    {
     "name": "stdout",
     "output_type": "stream",
     "text": [
      "b'q'\n",
      "b'q'\n",
      "b'q'\n",
      "b'q'\n",
      "b'q'\n",
      "b'q'\n",
      "b'q'\n",
      "b'q'\n",
      "b'q'\n",
      "New file: Battery Current (A).csv\n",
      "New file: Air Pressure (P).csv\n",
      "New file: Relative Humidity (percent).csv\n",
      "New file: Battery Temperature (C).csv\n",
      "New file: Internal Temperature (C).csv\n",
      "New file: External Temperature (C).csv\n",
      "New file: X Acceleration (g).csv\n",
      "New file: Y Acceleration (g).csv\n",
      "New file: Z Acceleration (g).csv\n",
      "New file: X Mangetometer (uT).csv\n",
      "New file: Y Mangetometer (uT).csv\n",
      "New file: Z Mangetometer (uT).csv\n",
      "New file: X Gyro (deg per sec).csv\n",
      "New file: Y Gyro (deg per sec).csv\n",
      "New file: Z Gyro (deg per sec).csv\n",
      "New file: Latitude.csv\n",
      "New file: Longitude.csv\n",
      "New file: Altitude (m).csv\n",
      "New file: Speed (m per s).csv\n",
      "New file: Time (seconds).csv\n",
      "New file: VOC density (ppb).csv\n",
      "New file: eCO2 density (ppm).csv\n"
     ]
    },
    {
     "name": "stderr",
     "output_type": "stream",
     "text": [
      "100% (3961827 of 3961827) |##############| Elapsed Time: 0:24:00 Time:  0:24:00\n"
     ]
    },
    {
     "name": "stdout",
     "output_type": "stream",
     "text": [
      "done\n"
     ]
    }
   ],
   "source": [
    "n_cycles = int(getsize(targetfile)/9)\n",
    "current_cycle = 1\n",
    "\n",
    "with progressbar.ProgressBar(max_value=n_cycles) as bar:    \n",
    "    dataIn = file.read(1)\n",
    "    while dataIn:\n",
    "        try: # Check if the dataIn is a valid data source\n",
    "            title = channels[dataIn]\n",
    "        except: # If not, go to the next byte\n",
    "            print(dataIn)\n",
    "            dataIn = file.read(1)\n",
    "            continue\n",
    "    \n",
    "        try: # Try to read the data in to process\n",
    "            byteLong  = file.read(4)\n",
    "            byteFloat = file.read(4)\n",
    "            dataIn = file.read(1)\n",
    "        except: # If it fails, we have probably reached EOF; break\n",
    "            break\n",
    "\n",
    "        # Convert byteLong and byteFloat to an unsigned long and float respectively\n",
    "        [timestamp] = struct.unpack(\"L\", byteLong)\n",
    "        [data] = struct.unpack(\"f\", byteFloat)\n",
    "\n",
    "        # Create CSV file name\n",
    "        csvfilename = filepath + title + \".csv\"\n",
    "        # Check if it already exists\n",
    "        # If it doesn't exist, create the file and write the header\n",
    "        if (not exists(csvfilename)):\n",
    "            print(\"New file: \" + csvfilename)\n",
    "            f = open(csvfilename, \"a\")\n",
    "            f.write(\"Time (ms), \" + title + \"\\n\")\n",
    "            f.close()\n",
    "\n",
    "        # Now that we know it exists and has a header, open it and write the data\n",
    "        with open(csvfilename, 'a', newline='', encoding='UTF8') as f:\n",
    "            writer = csv.writer(f)\n",
    "            row = [str(timestamp), str(data)]\n",
    "            writer.writerow(row)\n",
    "            \n",
    "        # Update the progress bar\n",
    "        current_cycle += 1\n",
    "        bar.update(current_cycle)\n",
    "\n",
    "print(\"done\")"
   ]
  }
 ],
 "metadata": {
  "kernelspec": {
   "display_name": "Python 3",
   "language": "python",
   "name": "python3"
  },
  "language_info": {
   "codemirror_mode": {
    "name": "ipython",
    "version": 3
   },
   "file_extension": ".py",
   "mimetype": "text/x-python",
   "name": "python",
   "nbconvert_exporter": "python",
   "pygments_lexer": "ipython3",
   "version": "3.8.5"
  }
 },
 "nbformat": 4,
 "nbformat_minor": 4
}
